{
 "cells": [
  {
   "cell_type": "code",
   "execution_count": 22,
   "id": "5cb34574",
   "metadata": {},
   "outputs": [],
   "source": [
    "import numpy as np\n",
    "from sklearn.impute import KNNImputer\n",
    "import pandas as pd\n",
    "import os"
   ]
  },
  {
   "cell_type": "code",
   "execution_count": 23,
   "id": "19213aa9",
   "metadata": {},
   "outputs": [],
   "source": [
    "# Set config\n",
    "outputPath = '.'\n",
    "pipeline_config = {\n",
    "    'feature_eng_version': '0.1',\n",
    "    'model_version': '0.1',\n",
    "    'info_text': None\n",
    "}"
   ]
  },
  {
   "cell_type": "code",
   "execution_count": 24,
   "id": "4ebdb2f1",
   "metadata": {},
   "outputs": [],
   "source": [
    "pd.set_option('display.max_columns', 100)"
   ]
  },
  {
   "cell_type": "markdown",
   "id": "82ecd783",
   "metadata": {},
   "source": [
    "# VIF"
   ]
  },
  {
   "cell_type": "code",
   "execution_count": 25,
   "id": "5ccffb12",
   "metadata": {},
   "outputs": [
    {
     "name": "stderr",
     "output_type": "stream",
     "text": [
      "/home/srinesh/python/code-snippets/env/lib/python3.8/site-packages/statsmodels/tsa/tsatools.py:142: FutureWarning: In a future version of pandas all arguments of concat except for the argument 'objs' will be keyword-only\n",
      "  x = pd.concat(x[::order], 1)\n"
     ]
    },
    {
     "data": {
      "text/plain": [
       "const    136.875\n",
       "a         22.950\n",
       "b          3.000\n",
       "c         12.950\n",
       "d          3.000\n",
       "dtype: float64"
      ]
     },
     "execution_count": 25,
     "metadata": {},
     "output_type": "execute_result"
    }
   ],
   "source": [
    "from statsmodels.stats.outliers_influence import variance_inflation_factor\n",
    "from statsmodels.tools.tools import add_constant\n",
    "\n",
    "df = pd.DataFrame(\n",
    "    {'a': [1, 1, 2, 3, 4],\n",
    "     'b': [2, 2, 3, 2, 1],\n",
    "     'c': [4, 6, 7, 8, 9],\n",
    "     'd': [4, 3, 4, 5, 4]}\n",
    ")\n",
    "\n",
    "X = add_constant(df)\n",
    "pd.Series([variance_inflation_factor(X.values, i) \n",
    "               for i in range(X.shape[1])], \n",
    "              index=X.columns)"
   ]
  },
  {
   "cell_type": "markdown",
   "id": "0d9f81a2",
   "metadata": {},
   "source": [
    "# Data Imputation"
   ]
  },
  {
   "cell_type": "code",
   "execution_count": 2,
   "id": "aa6b4a30",
   "metadata": {},
   "outputs": [
    {
     "data": {
      "text/plain": [
       "array([[1. , 2. , 1. ],\n",
       "       [3. , 4. , 1. ],\n",
       "       [5.5, 6. , 1. ],\n",
       "       [8. , 8. , 0. ]])"
      ]
     },
     "execution_count": 2,
     "metadata": {},
     "output_type": "execute_result"
    }
   ],
   "source": [
    "nan = np.nan\n",
    "X = [[1, 2, nan], [3, 4, True], [nan, 6, True], [8, 8, False]]\n",
    "imputer = KNNImputer(n_neighbors=2, weights=\"uniform\")\n",
    "imputer.fit_transform(X)"
   ]
  },
  {
   "cell_type": "markdown",
   "id": "1a039d7a",
   "metadata": {},
   "source": [
    "# Ordinal Encoding"
   ]
  },
  {
   "cell_type": "code",
   "execution_count": 51,
   "id": "43caafb9",
   "metadata": {},
   "outputs": [],
   "source": [
    "from sklearn.preprocessing import OrdinalEncoder\n",
    "enc = OrdinalEncoder()\n",
    "X = [['Male','Female']]"
   ]
  },
  {
   "cell_type": "code",
   "execution_count": 12,
   "id": "c0e3b6d1",
   "metadata": {},
   "outputs": [
    {
     "data": {
      "text/plain": [
       "array([[0., 0.]])"
      ]
     },
     "execution_count": 12,
     "metadata": {},
     "output_type": "execute_result"
    }
   ],
   "source": [
    "enc.fit_transform(X)"
   ]
  },
  {
   "cell_type": "markdown",
   "id": "93c40b11",
   "metadata": {},
   "source": [
    "## One-Hot Encoding"
   ]
  },
  {
   "cell_type": "code",
   "execution_count": 46,
   "id": "fd78b9dd",
   "metadata": {},
   "outputs": [
    {
     "name": "stderr",
     "output_type": "stream",
     "text": [
      "/tmp/ipykernel_1735/2193963073.py:16: FutureWarning: In a future version of pandas all arguments of DataFrame.drop except for the argument 'labels' will be keyword-only\n",
      "  X_train, X_test, y_train, y_test = train_test_split(flowers.drop('days', 1), flowers['days'],\n"
     ]
    }
   ],
   "source": [
    "from sklearn.preprocessing import OneHotEncoder\n",
    "ohe = OneHotEncoder(sparse=False, handle_unknown='error', drop='if_binary')\n",
    "\n",
    "flowers = pd.DataFrame({\n",
    "    'color' : ['red', 'green', 'red', 'green', 'red', 'green', 'red', 'green', 'blue', 'blue'],\n",
    "    'pretty': ['p', 'p', 'n', 'u', 'p', 'u', 'n', 'p', 'n', 'p'],\n",
    "    'native': [True, True, True, False, False, True, False, True, False, False],\n",
    "    'height': [4,9,4,8,4,7,4,7.5,20,19],\n",
    "    'petals': [3,9,1,8,1,10,2,8,50,47],\n",
    "    'days'  : [6,16,7,15,8,17,5,12,40,45]\n",
    "})\n",
    "\n",
    "\n",
    "from sklearn.model_selection import train_test_split\n",
    "\n",
    "X_train, X_test, y_train, y_test = train_test_split(flowers.drop('days', 1), flowers['days'],\n",
    "                                                    test_size=.2, random_state=40)"
   ]
  },
  {
   "cell_type": "code",
   "execution_count": 49,
   "id": "b88a303a",
   "metadata": {},
   "outputs": [
    {
     "data": {
      "text/plain": [
       "array([[1., 0., 0., 1., 0., 0., 0.],\n",
       "       [0., 1., 0., 0., 1., 0., 1.],\n",
       "       [0., 0., 1., 1., 0., 0., 1.],\n",
       "       [1., 0., 0., 0., 1., 0., 0.],\n",
       "       [0., 0., 1., 0., 1., 0., 1.],\n",
       "       [0., 1., 0., 0., 0., 1., 1.],\n",
       "       [0., 1., 0., 0., 1., 0., 1.],\n",
       "       [0., 0., 1., 1., 0., 0., 0.]])"
      ]
     },
     "execution_count": 49,
     "metadata": {},
     "output_type": "execute_result"
    }
   ],
   "source": [
    "ohe.fit_transform(X_train[['color', 'pretty', 'native']])"
   ]
  },
  {
   "cell_type": "code",
   "execution_count": 50,
   "id": "060f7065",
   "metadata": {},
   "outputs": [
    {
     "data": {
      "text/plain": [
       "array(['x0_blue', 'x0_green', 'x0_red', 'x1_n', 'x1_p', 'x1_u', 'x2_True'],\n",
       "      dtype=object)"
      ]
     },
     "execution_count": 50,
     "metadata": {},
     "output_type": "execute_result"
    }
   ],
   "source": [
    "ohe.get_feature_names()"
   ]
  },
  {
   "cell_type": "code",
   "execution_count": 39,
   "id": "1b523782",
   "metadata": {},
   "outputs": [],
   "source": [
    "# # Get all categoric columns\n",
    "# categ = [col for col in X_train.columns if X_train[col].dtypes == 'O']\n",
    "\n",
    "# o3 = OneHotEncoder(sparse=False)\n",
    "# o3.fit_transform(X_train[categ])"
   ]
  },
  {
   "cell_type": "markdown",
   "id": "7685cf9c",
   "metadata": {},
   "source": [
    "# Dump data into a pickle file"
   ]
  },
  {
   "cell_type": "code",
   "execution_count": 61,
   "id": "6829c62d",
   "metadata": {},
   "outputs": [],
   "source": [
    "import pickle\n",
    "modelling = {}\n",
    "modelling['config'] = pipeline_config\n",
    "modelling['Data'] = {'Xtrain': X_train, 'X_test': X_test, 'y_train': y_train, 'y_test':y_test}\n",
    "pickle.dump(modelling, open(os.path.join(outputPath, 'data_v1.pkl'), 'wb'))"
   ]
  },
  {
   "cell_type": "code",
   "execution_count": 66,
   "id": "73abb314",
   "metadata": {},
   "outputs": [],
   "source": [
    "infile = open(os.path.join(outputPath, 'data_v1.pkl'), 'rb')\n",
    "new_dict = pickle.load(infile, encoding='utf-8')"
   ]
  },
  {
   "cell_type": "code",
   "execution_count": 1,
   "id": "2b8674f4",
   "metadata": {},
   "outputs": [],
   "source": [
    "#d"
   ]
  },
  {
   "cell_type": "code",
   "execution_count": 10,
   "id": "79078e6e",
   "metadata": {},
   "outputs": [
    {
     "data": {
      "text/plain": [
       "0.88"
      ]
     },
     "execution_count": 10,
     "metadata": {},
     "output_type": "execute_result"
    }
   ],
   "source": [
    "from sklearn.svm import SVC\n",
    "from sklearn.preprocessing import StandardScaler\n",
    "from sklearn.datasets import make_classification\n",
    "from sklearn.model_selection import train_test_split\n",
    "from sklearn.pipeline import Pipeline\n",
    "X, y = make_classification(random_state=0)\n",
    "X_train, X_test, y_train, y_test = train_test_split(X, y,\n",
    "                                                    random_state=0)\n",
    "pipe = Pipeline([('scaler', StandardScaler()), ('svc', SVC(probability=True))])\n",
    "# The pipeline can be used as any other estimator\n",
    "# and avoids leaking the test set into the train set\n",
    "pipe.fit(X_train, y_train)\n",
    "\n",
    "pipe.score(X_test, y_test)"
   ]
  },
  {
   "cell_type": "code",
   "execution_count": 17,
   "id": "995f0978",
   "metadata": {},
   "outputs": [],
   "source": [
    "from sklearn.metrics import roc_auc_score"
   ]
  },
  {
   "cell_type": "code",
   "execution_count": 18,
   "id": "9100b088",
   "metadata": {},
   "outputs": [
    {
     "data": {
      "text/plain": [
       "0.8974358974358974"
      ]
     },
     "execution_count": 18,
     "metadata": {},
     "output_type": "execute_result"
    }
   ],
   "source": [
    "roc_auc_score(y_test, pipe.predict_proba(X_test)[:,1])"
   ]
  },
  {
   "cell_type": "code",
   "execution_count": null,
   "id": "3abf9954",
   "metadata": {},
   "outputs": [],
   "source": []
  }
 ],
 "metadata": {
  "kernelspec": {
   "display_name": "Python 3 (ipykernel)",
   "language": "python",
   "name": "python3"
  },
  "language_info": {
   "codemirror_mode": {
    "name": "ipython",
    "version": 3
   },
   "file_extension": ".py",
   "mimetype": "text/x-python",
   "name": "python",
   "nbconvert_exporter": "python",
   "pygments_lexer": "ipython3",
   "version": "3.8.10"
  }
 },
 "nbformat": 4,
 "nbformat_minor": 5
}

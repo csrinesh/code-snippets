{
 "cells": [
  {
   "cell_type": "code",
   "execution_count": null,
   "id": "b26d197c",
   "metadata": {},
   "outputs": [],
   "source": [
    "# Split the notebook into Imports, feature engineering, modelling, summary & Results\n",
    "# Document all functions\n",
    "# Comment at places as required\n",
    "# Follow PEP style\n",
    "# Have a defined configuration upfront\n",
    "# Set plot style, pandas limit etc..\n",
    "# Modularize and reuse code often\n",
    "# Save outputs as pickle file along with the config"
   ]
  },
  {
   "cell_type": "code",
   "execution_count": null,
   "id": "bcbfc649",
   "metadata": {},
   "outputs": [],
   "source": [
    "# Test, Train and Validation split\n",
    "#  X_train, X_test, y_train, y_test \n",
    "#     = train_test_split(X, y, test_size=0.2, random_state=1)\n",
    "\n",
    "#  X_train, X_val, y_train, y_val \n",
    "#     = train_test_split(X_train, y_train, test_size=0.25, random_state=1) # 0.25 x 0.8 = 0.2"
   ]
  }
 ],
 "metadata": {
  "kernelspec": {
   "display_name": "Python 3 (ipykernel)",
   "language": "python",
   "name": "python3"
  },
  "language_info": {
   "codemirror_mode": {
    "name": "ipython",
    "version": 3
   },
   "file_extension": ".py",
   "mimetype": "text/x-python",
   "name": "python",
   "nbconvert_exporter": "python",
   "pygments_lexer": "ipython3",
   "version": "3.8.10"
  }
 },
 "nbformat": 4,
 "nbformat_minor": 5
}
